{
 "cells": [
  {
   "cell_type": "code",
   "execution_count": 1,
   "id": "5cc9afa3",
   "metadata": {},
   "outputs": [],
   "source": [
    "import sys\n",
    "sys.path.append(\"..\")\n",
    "\n",
    "from src.data import load_data"
   ]
  },
  {
   "cell_type": "code",
   "execution_count": 2,
   "id": "ebd2fc03",
   "metadata": {},
   "outputs": [
    {
     "data": {
      "text/plain": [
       "diagnostic\n",
       "[ABNORMAL]            10049\n",
       "[NORMAL]               7032\n",
       "[]                     4578\n",
       "[ABNORMAL, NORMAL]      140\n",
       "Name: count, dtype: int64"
      ]
     },
     "execution_count": 2,
     "metadata": {},
     "output_type": "execute_result"
    }
   ],
   "source": [
    "data, labels = load_data(100, 2)\n",
    "labels.diagnostic.value_counts()"
   ]
  },
  {
   "cell_type": "code",
   "execution_count": 3,
   "id": "d09fc136",
   "metadata": {},
   "outputs": [
    {
     "data": {
      "text/plain": [
       "diagnostic\n",
       "[NORM]                 7032\n",
       "[]                     4578\n",
       "[CD]                   2715\n",
       "[STTC]                 2685\n",
       "[MI]                   1476\n",
       "[CD, MI]                763\n",
       "[CD, STTC]              531\n",
       "[STTC, HYP]             469\n",
       "[STTC, MI]              302\n",
       "[CD, HYP]               207\n",
       "[HYP]                   204\n",
       "[CD, STTC, HYP]         146\n",
       "[CD, NORM]              138\n",
       "[STTC, HYP, MI]         130\n",
       "[CD, STTC, MI]          106\n",
       "[HYP, STTC]              85\n",
       "[CD, STTC, HYP, MI]      69\n",
       "[CD, HYP, MI]            67\n",
       "[HYP, MI]                47\n",
       "[CD, HYP, STTC]          32\n",
       "[MI, STTC]                4\n",
       "[MI, HYP]                 4\n",
       "[STTC, MI, HYP]           3\n",
       "[CD, MI, HYP]             2\n",
       "[CD, NORM, STTC]          1\n",
       "[CD, STTC, MI, HYP]       1\n",
       "[NORM, HYP]               1\n",
       "[HYP, MI, STTC]           1\n",
       "Name: count, dtype: int64"
      ]
     },
     "execution_count": 3,
     "metadata": {},
     "output_type": "execute_result"
    }
   ],
   "source": [
    "data, labels = load_data(100, 5)\n",
    "labels.diagnostic.value_counts()"
   ]
  },
  {
   "cell_type": "code",
   "execution_count": 4,
   "id": "d1016b26",
   "metadata": {},
   "outputs": [
    {
     "data": {
      "text/plain": [
       "diagnostic\n",
       "[NORM]                                 7032\n",
       "[]                                     4578\n",
       "[STTC]                                 1564\n",
       "[AMI]                                   641\n",
       "[LAFB/LPFB]                             604\n",
       "                                       ... \n",
       "[ILBBB, AMI, ISC_, LVH]                   1\n",
       "[LAO/LAE, RAO/RAE, LAFB/LPFB, _AVB]       1\n",
       "[IMI, IVCD, STTC]                         1\n",
       "[ISCI, ILBBB]                             1\n",
       "[ISCI, RAO/RAE]                           1\n",
       "Name: count, Length: 484, dtype: int64"
      ]
     },
     "execution_count": 4,
     "metadata": {},
     "output_type": "execute_result"
    }
   ],
   "source": [
    "data, labels = load_data(100, 23)\n",
    "labels.diagnostic.value_counts()"
   ]
  },
  {
   "cell_type": "code",
   "execution_count": 5,
   "id": "b384c126",
   "metadata": {},
   "outputs": [
    {
     "data": {
      "text/plain": [
       "diagnostic\n",
       "[NORM]                      7032\n",
       "[]                          4578\n",
       "[NDT]                       1461\n",
       "[IRBBB]                      602\n",
       "[LAFB]                       591\n",
       "                            ... \n",
       "[IMI, ISCLA, ASMI, LAFB]       1\n",
       "[LVH, LAO/LAE, CLBBB]          1\n",
       "[LVH, INJLA, IRBBB]            1\n",
       "[ISCLA, ILBBB]                 1\n",
       "[RAO/RAE, ISCIL]               1\n",
       "Name: count, Length: 848, dtype: int64"
      ]
     },
     "execution_count": 5,
     "metadata": {},
     "output_type": "execute_result"
    }
   ],
   "source": [
    "data, labels = load_data(100, 44)\n",
    "labels.diagnostic.value_counts()"
   ]
  }
 ],
 "metadata": {
  "kernelspec": {
   "display_name": "default",
   "language": "python",
   "name": "python3"
  },
  "language_info": {
   "codemirror_mode": {
    "name": "ipython",
    "version": 3
   },
   "file_extension": ".py",
   "mimetype": "text/x-python",
   "name": "python",
   "nbconvert_exporter": "python",
   "pygments_lexer": "ipython3",
   "version": "3.11.10"
  }
 },
 "nbformat": 4,
 "nbformat_minor": 5
}
