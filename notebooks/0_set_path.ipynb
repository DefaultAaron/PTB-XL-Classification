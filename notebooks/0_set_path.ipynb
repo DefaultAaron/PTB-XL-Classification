{
 "cells": [
  {
   "cell_type": "code",
   "execution_count": 1,
   "id": "5cc9afa3",
   "metadata": {},
   "outputs": [],
   "source": [
    "import sys\n",
    "sys.path.append(\"..\")\n",
    "\n",
    "import numpy as np\n",
    "from src.utils import set_seed, save_model\n",
    "from src.data import (load_data, split_labels, \n",
    "                      remove_labels, data_clean,\n",
    "                      label_encode, data_split,\n",
    "                      data_standardize, get_dataloader)\n",
    "\n",
    "set_seed()"
   ]
  },
  {
   "cell_type": "code",
   "execution_count": 2,
   "id": "b384c126",
   "metadata": {},
   "outputs": [
    {
     "data": {
      "text/plain": [
       "diagnostic\n",
       "[NORM]                            7032\n",
       "[]                                4578\n",
       "[NDT]                             1461\n",
       "[IRBBB]                            602\n",
       "[LAFB]                             591\n",
       "                                  ... \n",
       "[1AVB, ILMI, IVCD, LAFB, ASMI]       1\n",
       "[1AVB, IPMI, LNGQT]                  1\n",
       "[ILBBB, ISCIL, LAO/LAE]              1\n",
       "[IMI, IVCD, LAFB]                    1\n",
       "[RAO/RAE, ISCIL]                     1\n",
       "Name: count, Length: 853, dtype: int64"
      ]
     },
     "execution_count": 2,
     "metadata": {},
     "output_type": "execute_result"
    }
   ],
   "source": [
    "data, labels = load_data(100, 44)\n",
    "labels.diagnostic.value_counts()"
   ]
  },
  {
   "cell_type": "code",
   "execution_count": 3,
   "id": "d1016b26",
   "metadata": {},
   "outputs": [
    {
     "data": {
      "text/plain": [
       "diagnostic\n",
       "[NORM]                         7032\n",
       "[]                             4578\n",
       "[STTC]                         1564\n",
       "[AMI]                           641\n",
       "[LAFB/LPFB]                     604\n",
       "                               ... \n",
       "[ILBBB, ISCI]                     1\n",
       "[IMI, IVCD, AMI, LAFB/LPFB]       1\n",
       "[LAFB/LPFB, ISCA, ISCI]           1\n",
       "[AMI, LMI, IVCD, _AVB]            1\n",
       "[RAO/RAE, ISCI]                   1\n",
       "Name: count, Length: 518, dtype: int64"
      ]
     },
     "execution_count": 3,
     "metadata": {},
     "output_type": "execute_result"
    }
   ],
   "source": [
    "data, labels = load_data(100, 23)\n",
    "labels.diagnostic.value_counts()"
   ]
  },
  {
   "cell_type": "code",
   "execution_count": 4,
   "id": "d09fc136",
   "metadata": {},
   "outputs": [
    {
     "data": {
      "text/plain": [
       "diagnostic\n",
       "[NORM]                 7032\n",
       "[]                     4578\n",
       "[CD]                   2715\n",
       "[STTC]                 2685\n",
       "[MI]                   1476\n",
       "[CD, MI]                763\n",
       "[STTC, HYP]             554\n",
       "[STTC, MI]              306\n",
       "[CD, STTC]              271\n",
       "[STTC, CD]              260\n",
       "[CD, HYP]               207\n",
       "[HYP]                   204\n",
       "[NORM, CD]              138\n",
       "[STTC, MI, HYP]         134\n",
       "[STTC, CD, HYP]         121\n",
       "[CD, MI, HYP]            69\n",
       "[CD, STTC, HYP]          57\n",
       "[CD, MI, STTC]           54\n",
       "[STTC, CD, MI]           52\n",
       "[MI, HYP]                51\n",
       "[STTC, CD, MI, HYP]      42\n",
       "[CD, MI, STTC, HYP]      28\n",
       "[NORM, CD, STTC]          1\n",
       "[NORM, HYP]               1\n",
       "Name: count, dtype: int64"
      ]
     },
     "execution_count": 4,
     "metadata": {},
     "output_type": "execute_result"
    }
   ],
   "source": [
    "data, labels = load_data(100, 5)\n",
    "labels.diagnostic.value_counts()"
   ]
  },
  {
   "cell_type": "code",
   "execution_count": 5,
   "id": "1efd8e94",
   "metadata": {},
   "outputs": [
    {
     "data": {
      "text/plain": [
       "diagnostic\n",
       "[ABNORMAL]            10049\n",
       "[NORMAL]               7032\n",
       "[]                     4578\n",
       "[ABNORMAL, NORMAL]      140\n",
       "Name: count, dtype: int64"
      ]
     },
     "execution_count": 5,
     "metadata": {},
     "output_type": "execute_result"
    }
   ],
   "source": [
    "data, labels = load_data(100, 2)\n",
    "labels.diagnostic.value_counts()"
   ]
  },
  {
   "cell_type": "code",
   "execution_count": 6,
   "id": "ebd2fc03",
   "metadata": {},
   "outputs": [
    {
     "data": {
      "text/plain": [
       "diagnostic\n",
       "[ABNORMAL]            10049\n",
       "[NORMAL]               7032\n",
       "[ABNORMAL, NORMAL]      140\n",
       "Name: count, dtype: int64"
      ]
     },
     "execution_count": 6,
     "metadata": {},
     "output_type": "execute_result"
    }
   ],
   "source": [
    "data, labels = load_data(100, 2)\n",
    "data, labels = data_clean(data, labels)\n",
    "labels.diagnostic.value_counts()"
   ]
  },
  {
   "cell_type": "code",
   "execution_count": 7,
   "id": "efdb8058",
   "metadata": {},
   "outputs": [
    {
     "name": "stdout",
     "output_type": "stream",
     "text": [
      "Model saved to /Users/aaron/USYD/Research Pathway/models/binary_multi_encoder.pkl\n"
     ]
    },
    {
     "data": {
      "text/plain": [
       "(array([['0', '1'],\n",
       "        ['1', '0'],\n",
       "        ['1', '1']], dtype='<U21'),\n",
       " array([ 7032, 10049,   140]))"
      ]
     },
     "execution_count": 7,
     "metadata": {},
     "output_type": "execute_result"
    }
   ],
   "source": [
    "fold, y, encoder = label_encode(labels, False)\n",
    "save_model(encoder, \"binary_multi_encoder\")\n",
    "np.unique(y.astype(str), axis=0, return_counts=True)"
   ]
  },
  {
   "cell_type": "code",
   "execution_count": 8,
   "id": "e77a1614",
   "metadata": {},
   "outputs": [
    {
     "name": "stdout",
     "output_type": "stream",
     "text": [
      "Model saved to /Users/aaron/USYD/Research Pathway/models/binary_multi_scaler.pkl\n"
     ]
    },
    {
     "data": {
      "text/plain": [
       "(12083, 1720, 3418)"
      ]
     },
     "execution_count": 8,
     "metadata": {},
     "output_type": "execute_result"
    }
   ],
   "source": [
    "train_X, train_y, val_X, val_y, test_X, test_y = data_split(data, fold, y)\n",
    "train_X, val_X, test_X, scaler = data_standardize(train_X, val_X, test_X)\n",
    "save_model(scaler, \"binary_multi_scaler\")\n",
    "train_loader, val_loader, test_loader = get_dataloader(train_X, train_y, val_X, val_y, test_X, test_y)\n",
    "len(train_loader.dataset), len(val_loader.dataset), len(test_loader.dataset)"
   ]
  },
  {
   "cell_type": "code",
   "execution_count": 9,
   "id": "d71540fb",
   "metadata": {},
   "outputs": [
    {
     "data": {
      "text/plain": [
       "diagnostic\n",
       "ABNORMAL    10189\n",
       "NORMAL       7172\n",
       "Name: count, dtype: int64"
      ]
     },
     "execution_count": 9,
     "metadata": {},
     "output_type": "execute_result"
    }
   ],
   "source": [
    "data, labels = load_data(100, 2)\n",
    "data, labels = split_labels(data, labels)\n",
    "labels.diagnostic.value_counts()"
   ]
  },
  {
   "cell_type": "code",
   "execution_count": 10,
   "id": "6e3f29ad",
   "metadata": {},
   "outputs": [
    {
     "name": "stdout",
     "output_type": "stream",
     "text": [
      "Model saved to /Users/aaron/USYD/Research Pathway/models/binary_split_encoder.pkl\n"
     ]
    },
    {
     "data": {
      "text/plain": [
       "(array(['0', '1'], dtype='<U21'), array([10189,  7172]))"
      ]
     },
     "execution_count": 10,
     "metadata": {},
     "output_type": "execute_result"
    }
   ],
   "source": [
    "fold, y, encoder = label_encode(labels, True)\n",
    "save_model(encoder, \"binary_split_encoder\")\n",
    "np.unique(y.astype(str), axis=0, return_counts=True)"
   ]
  },
  {
   "cell_type": "code",
   "execution_count": 11,
   "id": "72c1f343",
   "metadata": {},
   "outputs": [
    {
     "name": "stdout",
     "output_type": "stream",
     "text": [
      "Model saved to /Users/aaron/USYD/Research Pathway/models/binary_split_scaler.pkl\n"
     ]
    },
    {
     "data": {
      "text/plain": [
       "(12130, 1715, 3516)"
      ]
     },
     "execution_count": 11,
     "metadata": {},
     "output_type": "execute_result"
    }
   ],
   "source": [
    "train_X, train_y, val_X, val_y, test_X, test_y = data_split(data, fold, y)\n",
    "train_X, val_X, test_X, scaler = data_standardize(train_X, val_X, test_X)\n",
    "save_model(scaler, \"binary_split_scaler\")\n",
    "train_loader, val_loader, test_loader = get_dataloader(train_X, train_y, val_X, val_y, test_X, test_y)\n",
    "len(train_loader.dataset), len(val_loader.dataset), len(test_loader.dataset)"
   ]
  },
  {
   "cell_type": "code",
   "execution_count": 12,
   "id": "75b82bde",
   "metadata": {},
   "outputs": [
    {
     "data": {
      "text/plain": [
       "diagnostic\n",
       "[ABNORMAL]    10189\n",
       "[NORMAL]       7032\n",
       "Name: count, dtype: int64"
      ]
     },
     "execution_count": 12,
     "metadata": {},
     "output_type": "execute_result"
    }
   ],
   "source": [
    "data, labels = load_data(100, 2)\n",
    "labels = remove_labels(labels)\n",
    "data, labels = data_clean(data, labels)\n",
    "labels.diagnostic.value_counts()"
   ]
  },
  {
   "cell_type": "code",
   "execution_count": 13,
   "id": "b86b52b0",
   "metadata": {},
   "outputs": [
    {
     "name": "stdout",
     "output_type": "stream",
     "text": [
      "Model saved to /Users/aaron/USYD/Research Pathway/models/binary_remove_encoder.pkl\n"
     ]
    },
    {
     "data": {
      "text/plain": [
       "(array(['0', '1'], dtype='<U21'), array([10189,  7032]))"
      ]
     },
     "execution_count": 13,
     "metadata": {},
     "output_type": "execute_result"
    }
   ],
   "source": [
    "fold, y, encoder = label_encode(labels, False)\n",
    "save_model(encoder, \"binary_remove_encoder\")\n",
    "np.unique(y.astype(str), axis=0, return_counts=True)"
   ]
  },
  {
   "cell_type": "code",
   "execution_count": 14,
   "id": "abc78718",
   "metadata": {},
   "outputs": [
    {
     "name": "stdout",
     "output_type": "stream",
     "text": [
      "Model saved to /Users/aaron/USYD/Research Pathway/models/binary_remove_scaler.pkl\n"
     ]
    },
    {
     "data": {
      "text/plain": [
       "(12015, 1720, 3486)"
      ]
     },
     "execution_count": 14,
     "metadata": {},
     "output_type": "execute_result"
    }
   ],
   "source": [
    "train_X, train_y, val_X, val_y, test_X, test_y = data_split(data, fold, y)\n",
    "train_X, val_X, test_X, scaler = data_standardize(train_X, val_X, test_X)\n",
    "save_model(scaler, \"binary_remove_scaler\")\n",
    "train_loader, val_loader, test_loader = get_dataloader(train_X, train_y, val_X, val_y, test_X, test_y)\n",
    "len(train_loader.dataset), len(val_loader.dataset), len(test_loader.dataset)"
   ]
  }
 ],
 "metadata": {
  "kernelspec": {
   "display_name": "default",
   "language": "python",
   "name": "python3"
  },
  "language_info": {
   "codemirror_mode": {
    "name": "ipython",
    "version": 3
   },
   "file_extension": ".py",
   "mimetype": "text/x-python",
   "name": "python",
   "nbconvert_exporter": "python",
   "pygments_lexer": "ipython3",
   "version": "3.11.10"
  }
 },
 "nbformat": 4,
 "nbformat_minor": 5
}
