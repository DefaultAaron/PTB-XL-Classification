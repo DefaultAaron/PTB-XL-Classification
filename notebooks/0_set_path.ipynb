{
 "cells": [
  {
   "cell_type": "code",
   "execution_count": 1,
   "id": "5cc9afa3",
   "metadata": {},
   "outputs": [],
   "source": [
    "import sys\n",
    "sys.path.append(\"..\")\n",
    "\n",
    "from src.data import load_data, split_labels, remove_labels"
   ]
  },
  {
   "cell_type": "code",
   "execution_count": 2,
   "id": "b384c126",
   "metadata": {},
   "outputs": [
    {
     "data": {
      "text/plain": [
       "diagnostic\n",
       "[NORM]                                7032\n",
       "[]                                    4578\n",
       "[NDT]                                 1461\n",
       "[IRBBB]                                602\n",
       "[LAFB]                                 591\n",
       "                                      ... \n",
       "[LAFB, ASMI, IMI, ISC_]                  1\n",
       "[AMI, ISCIL, IVCD]                       1\n",
       "[PMI, ASMI, IVCD]                        1\n",
       "[1AVB, LPFB, LAO/LAE, CRBBB, ASMI]       1\n",
       "[ISCIL, RAO/RAE]                         1\n",
       "Name: count, Length: 852, dtype: int64"
      ]
     },
     "execution_count": 2,
     "metadata": {},
     "output_type": "execute_result"
    }
   ],
   "source": [
    "data, labels = load_data(100, 44)\n",
    "labels.diagnostic.value_counts()"
   ]
  },
  {
   "cell_type": "code",
   "execution_count": 3,
   "id": "d1016b26",
   "metadata": {},
   "outputs": [
    {
     "data": {
      "text/plain": [
       "diagnostic\n",
       "[NORM]                            7032\n",
       "[]                                4578\n",
       "[STTC]                            1564\n",
       "[AMI]                              641\n",
       "[LAFB/LPFB]                        604\n",
       "                                  ... \n",
       "[ISCA, LAO/LAE, RAO/RAE, ISCI]       1\n",
       "[_AVB, IMI, ISC_]                    1\n",
       "[AMI, STTC, ISCA]                    1\n",
       "[LAFB/LPFB, STTC, NORM]              1\n",
       "[RAO/RAE, ISCI]                      1\n",
       "Name: count, Length: 500, dtype: int64"
      ]
     },
     "execution_count": 3,
     "metadata": {},
     "output_type": "execute_result"
    }
   ],
   "source": [
    "data, labels = load_data(100, 23)\n",
    "labels.diagnostic.value_counts()"
   ]
  },
  {
   "cell_type": "code",
   "execution_count": 4,
   "id": "d09fc136",
   "metadata": {},
   "outputs": [
    {
     "data": {
      "text/plain": [
       "diagnostic\n",
       "[NORM]                 7032\n",
       "[]                     4578\n",
       "[CD]                   2715\n",
       "[STTC]                 2685\n",
       "[MI]                   1476\n",
       "[CD, MI]                763\n",
       "[STTC, HYP]             554\n",
       "[CD, STTC]              531\n",
       "[STTC, MI]              306\n",
       "[CD, HYP]               207\n",
       "[HYP]                   204\n",
       "[CD, STTC, HYP]         178\n",
       "[CD, NORM]              138\n",
       "[HYP, STTC, MI]         131\n",
       "[CD, STTC, MI]          106\n",
       "[HYP, CD, STTC, MI]      69\n",
       "[HYP, CD, MI]            67\n",
       "[HYP, MI]                47\n",
       "[MI, HYP]                 4\n",
       "[MI, STTC, HYP]           3\n",
       "[MI, CD, HYP]             2\n",
       "[CD, STTC, NORM]          1\n",
       "[MI, CD, STTC, HYP]       1\n",
       "[HYP, NORM]               1\n",
       "Name: count, dtype: int64"
      ]
     },
     "execution_count": 4,
     "metadata": {},
     "output_type": "execute_result"
    }
   ],
   "source": [
    "data, labels = load_data(100, 5)\n",
    "labels.diagnostic.value_counts()"
   ]
  },
  {
   "cell_type": "code",
   "execution_count": 5,
   "id": "ebd2fc03",
   "metadata": {},
   "outputs": [
    {
     "data": {
      "text/plain": [
       "diagnostic\n",
       "[ABNORMAL]            10049\n",
       "[NORMAL]               7032\n",
       "[]                     4578\n",
       "[NORMAL, ABNORMAL]      140\n",
       "Name: count, dtype: int64"
      ]
     },
     "execution_count": 5,
     "metadata": {},
     "output_type": "execute_result"
    }
   ],
   "source": [
    "data, labels = load_data(100, 2)\n",
    "labels.diagnostic.value_counts()"
   ]
  },
  {
   "cell_type": "code",
   "execution_count": 6,
   "id": "d71540fb",
   "metadata": {},
   "outputs": [
    {
     "data": {
      "text/plain": [
       "diagnostic\n",
       "ABNORMAL    10189\n",
       "NORMAL       7172\n",
       "Name: count, dtype: int64"
      ]
     },
     "execution_count": 6,
     "metadata": {},
     "output_type": "execute_result"
    }
   ],
   "source": [
    "data, labels = split_labels(data, labels)\n",
    "labels.diagnostic.value_counts()"
   ]
  },
  {
   "cell_type": "code",
   "execution_count": 7,
   "id": "75b82bde",
   "metadata": {},
   "outputs": [
    {
     "data": {
      "text/plain": [
       "diagnostic\n",
       "[ABNORMAL]    10189\n",
       "[NORMAL]       7032\n",
       "[]             4578\n",
       "Name: count, dtype: int64"
      ]
     },
     "execution_count": 7,
     "metadata": {},
     "output_type": "execute_result"
    }
   ],
   "source": [
    "data, labels = load_data(100, 2)\n",
    "labels = remove_labels(labels)\n",
    "labels.diagnostic.value_counts()"
   ]
  }
 ],
 "metadata": {
  "kernelspec": {
   "display_name": "default",
   "language": "python",
   "name": "python3"
  },
  "language_info": {
   "codemirror_mode": {
    "name": "ipython",
    "version": 3
   },
   "file_extension": ".py",
   "mimetype": "text/x-python",
   "name": "python",
   "nbconvert_exporter": "python",
   "pygments_lexer": "ipython3",
   "version": "3.11.10"
  }
 },
 "nbformat": 4,
 "nbformat_minor": 5
}
