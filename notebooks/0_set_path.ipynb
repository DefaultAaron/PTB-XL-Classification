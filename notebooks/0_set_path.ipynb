{
 "cells": [
  {
   "cell_type": "code",
   "execution_count": 1,
   "id": "5cc9afa3",
   "metadata": {},
   "outputs": [],
   "source": [
    "import sys\n",
    "sys.path.append(\"..\")\n",
    "\n",
    "from src.data import load_data, split_labels, remove_labels"
   ]
  },
  {
   "cell_type": "code",
   "execution_count": 2,
   "id": "b384c126",
   "metadata": {},
   "outputs": [
    {
     "data": {
      "text/plain": [
       "diagnostic\n",
       "[NORM]                           7032\n",
       "[]                               4578\n",
       "[NDT]                            1461\n",
       "[IRBBB]                           602\n",
       "[LAFB]                            591\n",
       "                                 ... \n",
       "[3AVB, LNGQT]                       1\n",
       "[ALMI, CLBBB, 1AVB]                 1\n",
       "[1AVB, ISC_, ASMI]                  1\n",
       "[LPFB, LMI, IVCD, ASMI, 2AVB]       1\n",
       "[ISCIL, RAO/RAE]                    1\n",
       "Name: count, Length: 859, dtype: int64"
      ]
     },
     "execution_count": 2,
     "metadata": {},
     "output_type": "execute_result"
    }
   ],
   "source": [
    "data, labels = load_data(100, 44)\n",
    "labels.diagnostic.value_counts()"
   ]
  },
  {
   "cell_type": "code",
   "execution_count": 3,
   "id": "d1016b26",
   "metadata": {},
   "outputs": [
    {
     "data": {
      "text/plain": [
       "diagnostic\n",
       "[NORM]                                    7032\n",
       "[]                                        4578\n",
       "[STTC]                                    1564\n",
       "[AMI]                                      641\n",
       "[LAFB/LPFB]                                604\n",
       "                                          ... \n",
       "[LVH, RAO/RAE]                               1\n",
       "[ISCA, STTC, AMI]                            1\n",
       "[_AVB, IMI, ISC_]                            1\n",
       "[_AVB, IRBBB, LAO/LAE, LAFB/LPFB, AMI]       1\n",
       "[ISCI, RAO/RAE]                              1\n",
       "Name: count, Length: 499, dtype: int64"
      ]
     },
     "execution_count": 3,
     "metadata": {},
     "output_type": "execute_result"
    }
   ],
   "source": [
    "data, labels = load_data(100, 23)\n",
    "labels.diagnostic.value_counts()"
   ]
  },
  {
   "cell_type": "code",
   "execution_count": 4,
   "id": "d09fc136",
   "metadata": {},
   "outputs": [
    {
     "data": {
      "text/plain": [
       "diagnostic\n",
       "[NORM]                 7032\n",
       "[]                     4578\n",
       "[CD]                   2715\n",
       "[STTC]                 2685\n",
       "[MI]                   1476\n",
       "[MI, CD]                763\n",
       "[HYP, STTC]             554\n",
       "[CD, STTC]              531\n",
       "[MI, STTC]              306\n",
       "[HYP, CD]               207\n",
       "[HYP]                   204\n",
       "[CD, NORM]              138\n",
       "[MI, HYP, STTC]         134\n",
       "[HYP, STTC, CD]         111\n",
       "[MI, CD, STTC]          106\n",
       "[HYP, CD, STTC]          67\n",
       "[MI, CD, HYP]            58\n",
       "[MI, HYP]                51\n",
       "[MI, HYP, STTC, CD]      41\n",
       "[MI, CD, STTC, HYP]      29\n",
       "[MI, HYP, CD]            10\n",
       "[STTC, CD, NORM]          1\n",
       "[HYP, NORM]               1\n",
       "[HYP, CD, MI]             1\n",
       "Name: count, dtype: int64"
      ]
     },
     "execution_count": 4,
     "metadata": {},
     "output_type": "execute_result"
    }
   ],
   "source": [
    "data, labels = load_data(100, 5)\n",
    "labels.diagnostic.value_counts()"
   ]
  },
  {
   "cell_type": "code",
   "execution_count": 5,
   "id": "ebd2fc03",
   "metadata": {},
   "outputs": [
    {
     "data": {
      "text/plain": [
       "diagnostic\n",
       "[ABNORMAL]            10049\n",
       "[NORMAL]               7032\n",
       "[]                     4578\n",
       "[ABNORMAL, NORMAL]      140\n",
       "Name: count, dtype: int64"
      ]
     },
     "execution_count": 5,
     "metadata": {},
     "output_type": "execute_result"
    }
   ],
   "source": [
    "data, labels = load_data(100, 2)\n",
    "labels.diagnostic.value_counts()"
   ]
  },
  {
   "cell_type": "code",
   "execution_count": 6,
   "id": "d71540fb",
   "metadata": {},
   "outputs": [
    {
     "data": {
      "text/plain": [
       "diagnostic\n",
       "ABNORMAL    10189\n",
       "NORMAL       7172\n",
       "Name: count, dtype: int64"
      ]
     },
     "execution_count": 6,
     "metadata": {},
     "output_type": "execute_result"
    }
   ],
   "source": [
    "data, labels = split_labels(data, labels)\n",
    "labels.diagnostic.value_counts()"
   ]
  },
  {
   "cell_type": "code",
   "execution_count": 7,
   "id": "75b82bde",
   "metadata": {},
   "outputs": [
    {
     "data": {
      "text/plain": [
       "diagnostic\n",
       "[ABNORMAL]    10189\n",
       "[NORMAL]       7032\n",
       "[]             4578\n",
       "Name: count, dtype: int64"
      ]
     },
     "execution_count": 7,
     "metadata": {},
     "output_type": "execute_result"
    }
   ],
   "source": [
    "data, labels = load_data(100, 2)\n",
    "labels = remove_labels(labels)\n",
    "labels.diagnostic.value_counts()"
   ]
  }
 ],
 "metadata": {
  "kernelspec": {
   "display_name": "default",
   "language": "python",
   "name": "python3"
  },
  "language_info": {
   "codemirror_mode": {
    "name": "ipython",
    "version": 3
   },
   "file_extension": ".py",
   "mimetype": "text/x-python",
   "name": "python",
   "nbconvert_exporter": "python",
   "pygments_lexer": "ipython3",
   "version": "3.11.10"
  }
 },
 "nbformat": 4,
 "nbformat_minor": 5
}
