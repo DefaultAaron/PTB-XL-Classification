{
 "cells": [
  {
   "cell_type": "code",
   "execution_count": 1,
   "id": "5cc9afa3",
   "metadata": {},
   "outputs": [],
   "source": [
    "import sys\n",
    "sys.path.append(\"..\")\n",
    "\n",
    "from src.data import load_data, split_labels"
   ]
  },
  {
   "cell_type": "code",
   "execution_count": 2,
   "id": "ebd2fc03",
   "metadata": {},
   "outputs": [
    {
     "data": {
      "text/plain": [
       "diagnostic\n",
       "[ABNORMAL]            10049\n",
       "[NORMAL]               7032\n",
       "[]                     4578\n",
       "[ABNORMAL, NORMAL]      140\n",
       "Name: count, dtype: int64"
      ]
     },
     "execution_count": 2,
     "metadata": {},
     "output_type": "execute_result"
    }
   ],
   "source": [
    "data, labels = load_data(100, 2)\n",
    "labels.diagnostic.value_counts()"
   ]
  },
  {
   "cell_type": "code",
   "execution_count": 3,
   "id": "d71540fb",
   "metadata": {},
   "outputs": [
    {
     "data": {
      "text/plain": [
       "diagnostic\n",
       "ABNORMAL    10189\n",
       "NORMAL       7172\n",
       "Name: count, dtype: int64"
      ]
     },
     "execution_count": 3,
     "metadata": {},
     "output_type": "execute_result"
    }
   ],
   "source": [
    "data, labels = split_labels(data, labels)\n",
    "labels.diagnostic.value_counts()"
   ]
  },
  {
   "cell_type": "code",
   "execution_count": 4,
   "id": "d09fc136",
   "metadata": {},
   "outputs": [
    {
     "data": {
      "text/plain": [
       "diagnostic\n",
       "[NORM]                 7032\n",
       "[]                     4578\n",
       "[CD]                   2715\n",
       "[STTC]                 2685\n",
       "[MI]                   1476\n",
       "[CD, MI]                763\n",
       "[HYP, STTC]             554\n",
       "[CD, STTC]              531\n",
       "[STTC, MI]              306\n",
       "[HYP]                   204\n",
       "[CD, HYP]               165\n",
       "[CD, NORM]              138\n",
       "[HYP, STTC, MI]         134\n",
       "[HYP, STTC, CD]         111\n",
       "[CD, STTC, MI]          106\n",
       "[CD, HYP, MI]            59\n",
       "[HYP, MI]                51\n",
       "[CD, HYP, STTC]          44\n",
       "[HYP, CD]                42\n",
       "[HYP, STTC, MI, CD]      41\n",
       "[CD, HYP, MI, STTC]      27\n",
       "[CD, STTC, HYP]          23\n",
       "[HYP, MI, CD]            10\n",
       "[CD, STTC, MI, HYP]       2\n",
       "[CD, STTC, NORM]          1\n",
       "[HYP, NORM]               1\n",
       "Name: count, dtype: int64"
      ]
     },
     "execution_count": 4,
     "metadata": {},
     "output_type": "execute_result"
    }
   ],
   "source": [
    "data, labels = load_data(100, 5)\n",
    "labels.diagnostic.value_counts()"
   ]
  },
  {
   "cell_type": "code",
   "execution_count": 5,
   "id": "d1016b26",
   "metadata": {},
   "outputs": [
    {
     "data": {
      "text/plain": [
       "diagnostic\n",
       "[NORM]                    7032\n",
       "[]                        4578\n",
       "[STTC]                    1564\n",
       "[AMI]                      641\n",
       "[LAFB/LPFB]                604\n",
       "                          ... \n",
       "[RVH]                        1\n",
       "[ISC_, AMI, _AVB, LVH]       1\n",
       "[AMI, LVH, IRBBB]            1\n",
       "[CLBBB, LVH, LAO/LAE]        1\n",
       "[RAO/RAE, ISCI]              1\n",
       "Name: count, Length: 512, dtype: int64"
      ]
     },
     "execution_count": 5,
     "metadata": {},
     "output_type": "execute_result"
    }
   ],
   "source": [
    "data, labels = load_data(100, 23)\n",
    "labels.diagnostic.value_counts()"
   ]
  },
  {
   "cell_type": "code",
   "execution_count": 6,
   "id": "b384c126",
   "metadata": {},
   "outputs": [
    {
     "data": {
      "text/plain": [
       "diagnostic\n",
       "[NORM]                       7032\n",
       "[]                           4578\n",
       "[NDT]                        1461\n",
       "[IRBBB]                       602\n",
       "[LAFB]                        591\n",
       "                             ... \n",
       "[LPFB, NDT]                     1\n",
       "[LAO/LAE, INJAL]                1\n",
       "[ISC_, LVH, LAO/LAE, LMI]       1\n",
       "[NST_, NDT]                     1\n",
       "[RAO/RAE, ISCIL]                1\n",
       "Name: count, Length: 868, dtype: int64"
      ]
     },
     "execution_count": 6,
     "metadata": {},
     "output_type": "execute_result"
    }
   ],
   "source": [
    "data, labels = load_data(100, 44)\n",
    "labels.diagnostic.value_counts()"
   ]
  }
 ],
 "metadata": {
  "kernelspec": {
   "display_name": "default",
   "language": "python",
   "name": "python3"
  },
  "language_info": {
   "codemirror_mode": {
    "name": "ipython",
    "version": 3
   },
   "file_extension": ".py",
   "mimetype": "text/x-python",
   "name": "python",
   "nbconvert_exporter": "python",
   "pygments_lexer": "ipython3",
   "version": "3.11.10"
  }
 },
 "nbformat": 4,
 "nbformat_minor": 5
}
