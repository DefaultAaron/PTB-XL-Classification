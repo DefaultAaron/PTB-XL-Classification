{
 "cells": [
  {
   "cell_type": "code",
   "execution_count": 1,
   "id": "5cc9afa3",
   "metadata": {},
   "outputs": [],
   "source": [
    "import sys\n",
    "sys.path.append(\"..\")\n",
    "\n",
    "import numpy as np\n",
    "from src.utils import set_seed\n",
    "from src.data import (load_data, split_labels, \n",
    "                      remove_labels, data_clean,\n",
    "                      label_encode, data_split)\n",
    "\n",
    "set_seed()"
   ]
  },
  {
   "cell_type": "code",
   "execution_count": 2,
   "id": "b384c126",
   "metadata": {},
   "outputs": [
    {
     "data": {
      "text/plain": [
       "diagnostic\n",
       "[NORM]                       7032\n",
       "[]                           4578\n",
       "[NDT]                        1461\n",
       "[IRBBB]                       602\n",
       "[LAFB]                        591\n",
       "                             ... \n",
       "[ISCIL, RAO/RAE, LAO/LAE]       1\n",
       "[3AVB, LNGQT]                   1\n",
       "[ALMI, 1AVB, CLBBB]             1\n",
       "[ISC_, 1AVB, ASMI]              1\n",
       "[ISCIL, RAO/RAE]                1\n",
       "Name: count, Length: 855, dtype: int64"
      ]
     },
     "execution_count": 2,
     "metadata": {},
     "output_type": "execute_result"
    }
   ],
   "source": [
    "data, labels = load_data(100, 44)\n",
    "labels.diagnostic.value_counts()"
   ]
  },
  {
   "cell_type": "code",
   "execution_count": 3,
   "id": "d1016b26",
   "metadata": {},
   "outputs": [
    {
     "data": {
      "text/plain": [
       "diagnostic\n",
       "[NORM]                                    7032\n",
       "[]                                        4578\n",
       "[STTC]                                    1564\n",
       "[AMI]                                      641\n",
       "[LAFB/LPFB]                                604\n",
       "                                          ... \n",
       "[IRBBB, AMI, LAFB/LPFB, LAO/LAE, _AVB]       1\n",
       "[IVCD, IRBBB, ISCI, ISCA]                    1\n",
       "[IVCD, STTC, _AVB, LAO/LAE]                  1\n",
       "[AMI, IRBBB, RAO/RAE, LAFB/LPFB]             1\n",
       "[RAO/RAE, ISCI]                              1\n",
       "Name: count, Length: 493, dtype: int64"
      ]
     },
     "execution_count": 3,
     "metadata": {},
     "output_type": "execute_result"
    }
   ],
   "source": [
    "data, labels = load_data(100, 23)\n",
    "labels.diagnostic.value_counts()"
   ]
  },
  {
   "cell_type": "code",
   "execution_count": 4,
   "id": "d09fc136",
   "metadata": {},
   "outputs": [
    {
     "data": {
      "text/plain": [
       "diagnostic\n",
       "[NORM]                 7032\n",
       "[]                     4578\n",
       "[CD]                   2715\n",
       "[STTC]                 2685\n",
       "[MI]                   1476\n",
       "[CD, MI]                763\n",
       "[CD, STTC]              531\n",
       "[HYP, STTC]             469\n",
       "[MI, STTC]              302\n",
       "[CD, HYP]               207\n",
       "[HYP]                   204\n",
       "[CD, HYP, STTC]         146\n",
       "[CD, NORM]              138\n",
       "[MI, HYP, STTC]         130\n",
       "[CD, MI, STTC]          106\n",
       "[STTC, HYP]              85\n",
       "[CD, MI, HYP, STTC]      69\n",
       "[CD, MI, HYP]            67\n",
       "[MI, HYP]                47\n",
       "[CD, STTC, HYP]          32\n",
       "[STTC, MI]                4\n",
       "[HYP, MI]                 4\n",
       "[HYP, MI, STTC]           3\n",
       "[CD, HYP, MI]             2\n",
       "[CD, STTC, NORM]          1\n",
       "[CD, HYP, MI, STTC]       1\n",
       "[HYP, NORM]               1\n",
       "[STTC, HYP, MI]           1\n",
       "Name: count, dtype: int64"
      ]
     },
     "execution_count": 4,
     "metadata": {},
     "output_type": "execute_result"
    }
   ],
   "source": [
    "data, labels = load_data(100, 5)\n",
    "labels.diagnostic.value_counts()"
   ]
  },
  {
   "cell_type": "code",
   "execution_count": 5,
   "id": "1efd8e94",
   "metadata": {},
   "outputs": [
    {
     "data": {
      "text/plain": [
       "diagnostic\n",
       "[ABNORMAL]            10049\n",
       "[NORMAL]               7032\n",
       "[]                     4578\n",
       "[ABNORMAL, NORMAL]      140\n",
       "Name: count, dtype: int64"
      ]
     },
     "execution_count": 5,
     "metadata": {},
     "output_type": "execute_result"
    }
   ],
   "source": [
    "data, labels = load_data(100, 2)\n",
    "labels.diagnostic.value_counts()"
   ]
  },
  {
   "cell_type": "code",
   "execution_count": 6,
   "id": "ebd2fc03",
   "metadata": {},
   "outputs": [
    {
     "data": {
      "text/plain": [
       "diagnostic\n",
       "[ABNORMAL]            10049\n",
       "[NORMAL]               7032\n",
       "[ABNORMAL, NORMAL]      140\n",
       "Name: count, dtype: int64"
      ]
     },
     "execution_count": 6,
     "metadata": {},
     "output_type": "execute_result"
    }
   ],
   "source": [
    "data, labels = load_data(100, 2)\n",
    "data, labels = data_clean(data, labels)\n",
    "labels.diagnostic.value_counts()"
   ]
  },
  {
   "cell_type": "code",
   "execution_count": 7,
   "id": "efdb8058",
   "metadata": {},
   "outputs": [
    {
     "data": {
      "text/plain": [
       "(array([['0', '1'],\n",
       "        ['1', '0'],\n",
       "        ['1', '1']], dtype='<U21'),\n",
       " array([ 7032, 10049,   140]))"
      ]
     },
     "execution_count": 7,
     "metadata": {},
     "output_type": "execute_result"
    }
   ],
   "source": [
    "fold, y = label_encode(labels, False)\n",
    "np.unique(y.astype(str), axis=0, return_counts=True)"
   ]
  },
  {
   "cell_type": "code",
   "execution_count": 8,
   "id": "d71540fb",
   "metadata": {},
   "outputs": [
    {
     "data": {
      "text/plain": [
       "diagnostic\n",
       "ABNORMAL    10189\n",
       "NORMAL       7172\n",
       "Name: count, dtype: int64"
      ]
     },
     "execution_count": 8,
     "metadata": {},
     "output_type": "execute_result"
    }
   ],
   "source": [
    "data, labels = load_data(100, 2)\n",
    "data, labels = split_labels(data, labels)\n",
    "labels.diagnostic.value_counts()"
   ]
  },
  {
   "cell_type": "code",
   "execution_count": 9,
   "id": "6e3f29ad",
   "metadata": {},
   "outputs": [
    {
     "data": {
      "text/plain": [
       "(array(['0', '1'], dtype='<U21'), array([10189,  7172]))"
      ]
     },
     "execution_count": 9,
     "metadata": {},
     "output_type": "execute_result"
    }
   ],
   "source": [
    "fold, y = label_encode(labels, True)\n",
    "np.unique(y.astype(str), axis=0, return_counts=True)"
   ]
  },
  {
   "cell_type": "code",
   "execution_count": 10,
   "id": "75b82bde",
   "metadata": {},
   "outputs": [
    {
     "data": {
      "text/plain": [
       "diagnostic\n",
       "[ABNORMAL]    10189\n",
       "[NORMAL]       7032\n",
       "Name: count, dtype: int64"
      ]
     },
     "execution_count": 10,
     "metadata": {},
     "output_type": "execute_result"
    }
   ],
   "source": [
    "data, labels = load_data(100, 2)\n",
    "labels = remove_labels(labels)\n",
    "data, labels = data_clean(data, labels)\n",
    "labels.diagnostic.value_counts()"
   ]
  },
  {
   "cell_type": "code",
   "execution_count": 11,
   "id": "b86b52b0",
   "metadata": {},
   "outputs": [
    {
     "data": {
      "text/plain": [
       "(array(['0', '1'], dtype='<U21'), array([10189,  7032]))"
      ]
     },
     "execution_count": 11,
     "metadata": {},
     "output_type": "execute_result"
    }
   ],
   "source": [
    "fold, y = label_encode(labels, False)\n",
    "np.unique(y.astype(str), axis=0, return_counts=True)"
   ]
  },
  {
   "cell_type": "code",
   "execution_count": 12,
   "id": "abc78718",
   "metadata": {},
   "outputs": [
    {
     "data": {
      "text/plain": [
       "(12083, 12083, 1720, 1720, 3418, 3418)"
      ]
     },
     "execution_count": 12,
     "metadata": {},
     "output_type": "execute_result"
    }
   ],
   "source": [
    "train_X, train_y, val_X, val_y, test_X, test_y = data_split(data, fold, y)\n",
    "len(train_X), len(train_y), len(val_X), len(val_y), len(test_X), len(test_y)"
   ]
  }
 ],
 "metadata": {
  "kernelspec": {
   "display_name": "default",
   "language": "python",
   "name": "python3"
  },
  "language_info": {
   "codemirror_mode": {
    "name": "ipython",
    "version": 3
   },
   "file_extension": ".py",
   "mimetype": "text/x-python",
   "name": "python",
   "nbconvert_exporter": "python",
   "pygments_lexer": "ipython3",
   "version": "3.11.10"
  }
 },
 "nbformat": 4,
 "nbformat_minor": 5
}
