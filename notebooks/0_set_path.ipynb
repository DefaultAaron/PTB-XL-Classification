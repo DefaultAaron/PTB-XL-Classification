{
 "cells": [
  {
   "cell_type": "code",
   "execution_count": 1,
   "id": "5cc9afa3",
   "metadata": {},
   "outputs": [],
   "source": [
    "import sys\n",
    "sys.path.append(\"..\")\n",
    "\n",
    "import numpy as np\n",
    "from src.utils import set_seed\n",
    "from src.data import (load_data, split_labels, \n",
    "                      remove_labels, data_clean,\n",
    "                      label_encode, data_split,\n",
    "                      data_standardize, get_dataloader)\n",
    "\n",
    "set_seed()"
   ]
  },
  {
   "cell_type": "code",
   "execution_count": 2,
   "id": "b384c126",
   "metadata": {},
   "outputs": [
    {
     "data": {
      "text/plain": [
       "diagnostic\n",
       "[NORM]                          7032\n",
       "[]                              4578\n",
       "[NDT]                           1461\n",
       "[IRBBB]                          602\n",
       "[LAFB]                           591\n",
       "                                ... \n",
       "[LMI, LPFB, CRBBB]                 1\n",
       "[LVH, IMI, ISC_, AMI, IRBBB]       1\n",
       "[ISCAL, ISCIN, LAO/LAE]            1\n",
       "[ISCLA, AMI, IMI, LAO/LAE]         1\n",
       "[ISCIL, RAO/RAE]                   1\n",
       "Name: count, Length: 852, dtype: int64"
      ]
     },
     "execution_count": 2,
     "metadata": {},
     "output_type": "execute_result"
    }
   ],
   "source": [
    "data, labels = load_data(100, 44)\n",
    "labels.diagnostic.value_counts()"
   ]
  },
  {
   "cell_type": "code",
   "execution_count": 3,
   "id": "d1016b26",
   "metadata": {},
   "outputs": [
    {
     "data": {
      "text/plain": [
       "diagnostic\n",
       "[NORM]                        7032\n",
       "[]                            4578\n",
       "[STTC]                        1564\n",
       "[AMI]                          641\n",
       "[LAFB/LPFB]                    604\n",
       "                              ... \n",
       "[LMI, STTC]                      1\n",
       "[IMI, IVCD, LAFB/LPFB]           1\n",
       "[ISCI, ILBBB, LAO/LAE]           1\n",
       "[LAO/LAE, _AVB, IMI, IVCD]       1\n",
       "[ISCI, RAO/RAE]                  1\n",
       "Name: count, Length: 495, dtype: int64"
      ]
     },
     "execution_count": 3,
     "metadata": {},
     "output_type": "execute_result"
    }
   ],
   "source": [
    "data, labels = load_data(100, 23)\n",
    "labels.diagnostic.value_counts()"
   ]
  },
  {
   "cell_type": "code",
   "execution_count": 4,
   "id": "d09fc136",
   "metadata": {},
   "outputs": [
    {
     "data": {
      "text/plain": [
       "diagnostic\n",
       "[NORM]                 7032\n",
       "[]                     4578\n",
       "[CD]                   2715\n",
       "[STTC]                 2685\n",
       "[MI]                   1476\n",
       "[CD, MI]                763\n",
       "[HYP, STTC]             554\n",
       "[CD, STTC]              531\n",
       "[MI, STTC]              306\n",
       "[HYP, CD]               207\n",
       "[HYP]                   204\n",
       "[HYP, CD, STTC]         178\n",
       "[CD, NORM]              138\n",
       "[HYP, MI, STTC]         134\n",
       "[CD, MI, STTC]          106\n",
       "[HYP, CD, MI, STTC]      70\n",
       "[HYP, CD, MI]            69\n",
       "[HYP, MI]                51\n",
       "[CD, NORM, STTC]          1\n",
       "[HYP, NORM]               1\n",
       "Name: count, dtype: int64"
      ]
     },
     "execution_count": 4,
     "metadata": {},
     "output_type": "execute_result"
    }
   ],
   "source": [
    "data, labels = load_data(100, 5)\n",
    "labels.diagnostic.value_counts()"
   ]
  },
  {
   "cell_type": "code",
   "execution_count": 5,
   "id": "1efd8e94",
   "metadata": {},
   "outputs": [
    {
     "data": {
      "text/plain": [
       "diagnostic\n",
       "[ABNORMAL]            10049\n",
       "[NORMAL]               7032\n",
       "[]                     4578\n",
       "[NORMAL, ABNORMAL]      140\n",
       "Name: count, dtype: int64"
      ]
     },
     "execution_count": 5,
     "metadata": {},
     "output_type": "execute_result"
    }
   ],
   "source": [
    "data, labels = load_data(100, 2)\n",
    "labels.diagnostic.value_counts()"
   ]
  },
  {
   "cell_type": "code",
   "execution_count": 6,
   "id": "ebd2fc03",
   "metadata": {},
   "outputs": [
    {
     "data": {
      "text/plain": [
       "diagnostic\n",
       "[ABNORMAL]            10049\n",
       "[NORMAL]               7032\n",
       "[NORMAL, ABNORMAL]      140\n",
       "Name: count, dtype: int64"
      ]
     },
     "execution_count": 6,
     "metadata": {},
     "output_type": "execute_result"
    }
   ],
   "source": [
    "data, labels = load_data(100, 2)\n",
    "data, labels = data_clean(data, labels)\n",
    "labels.diagnostic.value_counts()"
   ]
  },
  {
   "cell_type": "code",
   "execution_count": 7,
   "id": "efdb8058",
   "metadata": {},
   "outputs": [
    {
     "data": {
      "text/plain": [
       "(array([['0', '1'],\n",
       "        ['1', '0'],\n",
       "        ['1', '1']], dtype='<U21'),\n",
       " array([ 7032, 10049,   140]))"
      ]
     },
     "execution_count": 7,
     "metadata": {},
     "output_type": "execute_result"
    }
   ],
   "source": [
    "fold, y, encoder = label_encode(labels, False)\n",
    "np.unique(y.astype(str), axis=0, return_counts=True)"
   ]
  },
  {
   "cell_type": "code",
   "execution_count": 8,
   "id": "d71540fb",
   "metadata": {},
   "outputs": [
    {
     "data": {
      "text/plain": [
       "diagnostic\n",
       "ABNORMAL    10189\n",
       "NORMAL       7172\n",
       "Name: count, dtype: int64"
      ]
     },
     "execution_count": 8,
     "metadata": {},
     "output_type": "execute_result"
    }
   ],
   "source": [
    "data, labels = load_data(100, 2)\n",
    "data, labels = split_labels(data, labels)\n",
    "labels.diagnostic.value_counts()"
   ]
  },
  {
   "cell_type": "code",
   "execution_count": 9,
   "id": "6e3f29ad",
   "metadata": {},
   "outputs": [
    {
     "data": {
      "text/plain": [
       "(array(['0', '1'], dtype='<U21'), array([10189,  7172]))"
      ]
     },
     "execution_count": 9,
     "metadata": {},
     "output_type": "execute_result"
    }
   ],
   "source": [
    "fold, y, encoder = label_encode(labels, True)\n",
    "np.unique(y.astype(str), axis=0, return_counts=True)"
   ]
  },
  {
   "cell_type": "code",
   "execution_count": 10,
   "id": "75b82bde",
   "metadata": {},
   "outputs": [
    {
     "data": {
      "text/plain": [
       "diagnostic\n",
       "[ABNORMAL]    10189\n",
       "[NORMAL]       7032\n",
       "Name: count, dtype: int64"
      ]
     },
     "execution_count": 10,
     "metadata": {},
     "output_type": "execute_result"
    }
   ],
   "source": [
    "data, labels = load_data(100, 2)\n",
    "labels = remove_labels(labels)\n",
    "data, labels = data_clean(data, labels)\n",
    "labels.diagnostic.value_counts()"
   ]
  },
  {
   "cell_type": "code",
   "execution_count": 11,
   "id": "b86b52b0",
   "metadata": {},
   "outputs": [
    {
     "data": {
      "text/plain": [
       "(array(['0', '1'], dtype='<U21'), array([10189,  7032]))"
      ]
     },
     "execution_count": 11,
     "metadata": {},
     "output_type": "execute_result"
    }
   ],
   "source": [
    "fold, y, encoder = label_encode(labels, False)\n",
    "np.unique(y.astype(str), axis=0, return_counts=True)"
   ]
  },
  {
   "cell_type": "code",
   "execution_count": 12,
   "id": "abc78718",
   "metadata": {},
   "outputs": [
    {
     "data": {
      "text/plain": [
       "(12083, 12083, 1720, 1720, 3418, 3418)"
      ]
     },
     "execution_count": 12,
     "metadata": {},
     "output_type": "execute_result"
    }
   ],
   "source": [
    "train_X, train_y, val_X, val_y, test_X, test_y = data_split(data, fold, y)\n",
    "len(train_X), len(train_y), len(val_X), len(val_y), len(test_X), len(test_y)"
   ]
  },
  {
   "cell_type": "code",
   "execution_count": 13,
   "id": "e89433ef",
   "metadata": {},
   "outputs": [
    {
     "data": {
      "text/plain": [
       "((12083, 1000, 12), (1720, 1000, 12), (3418, 1000, 12))"
      ]
     },
     "execution_count": 13,
     "metadata": {},
     "output_type": "execute_result"
    }
   ],
   "source": [
    "train_X, val_X, test_X, scaler = data_standardize(train_X, val_X, test_X)\n",
    "train_X.shape, val_X.shape, test_X.shape"
   ]
  },
  {
   "cell_type": "code",
   "execution_count": 14,
   "id": "070822c0",
   "metadata": {},
   "outputs": [
    {
     "data": {
      "text/plain": [
       "(12083, 1720, 3418)"
      ]
     },
     "execution_count": 14,
     "metadata": {},
     "output_type": "execute_result"
    }
   ],
   "source": [
    "train_loader, val_loader, test_loader = get_dataloader(train_X, train_y, val_X, val_y, test_X, test_y)\n",
    "len(train_loader.dataset), len(val_loader.dataset), len(test_loader.dataset)"
   ]
  }
 ],
 "metadata": {
  "kernelspec": {
   "display_name": "default",
   "language": "python",
   "name": "python3"
  },
  "language_info": {
   "codemirror_mode": {
    "name": "ipython",
    "version": 3
   },
   "file_extension": ".py",
   "mimetype": "text/x-python",
   "name": "python",
   "nbconvert_exporter": "python",
   "pygments_lexer": "ipython3",
   "version": "3.11.10"
  }
 },
 "nbformat": 4,
 "nbformat_minor": 5
}
