{
 "cells": [
  {
   "cell_type": "code",
   "execution_count": 1,
   "id": "7246b374",
   "metadata": {},
   "outputs": [],
   "source": [
    "import sys\n",
    "sys.path.append(\"..\")\n",
    "\n",
    "from src.utils import set_seed\n",
    "from src.data import data_preparation"
   ]
  },
  {
   "cell_type": "code",
   "execution_count": 2,
   "id": "55925389",
   "metadata": {},
   "outputs": [
    {
     "name": "stdout",
     "output_type": "stream",
     "text": [
      "Model saved to /Users/aaron/USYD/Research Pathway/models/100_2_remove_encoder.pkl\n",
      "Model saved to /Users/aaron/USYD/Research Pathway/models/100_2_remove_scaler.pkl\n"
     ]
    },
    {
     "data": {
      "text/plain": [
       "(12083, 1720, 3418)"
      ]
     },
     "execution_count": 2,
     "metadata": {},
     "output_type": "execute_result"
    }
   ],
   "source": [
    "set_seed()\n",
    "train_loader, val_loader, test_loader = data_preparation()\n",
    "len(train_loader.dataset), len(val_loader.dataset), len(test_loader.dataset)"
   ]
  }
 ],
 "metadata": {
  "kernelspec": {
   "display_name": "default",
   "language": "python",
   "name": "python3"
  },
  "language_info": {
   "codemirror_mode": {
    "name": "ipython",
    "version": 3
   },
   "file_extension": ".py",
   "mimetype": "text/x-python",
   "name": "python",
   "nbconvert_exporter": "python",
   "pygments_lexer": "ipython3",
   "version": "3.11.10"
  }
 },
 "nbformat": 4,
 "nbformat_minor": 5
}
